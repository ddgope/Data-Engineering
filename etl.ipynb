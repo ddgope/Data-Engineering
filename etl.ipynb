{
 "cells": [
  {
   "cell_type": "markdown",
   "metadata": {},
   "source": [
    "# ETL Processes\n",
    "Use this notebook to develop the ETL process for each of your tables before completing the `etl.py` file to load the whole datasets."
   ]
  },
  {
   "cell_type": "code",
   "execution_count": 12,
   "metadata": {},
   "outputs": [],
   "source": [
    "import os\n",
    "import glob\n",
    "import psycopg2\n",
    "import pandas as pd\n",
    "import numpy as np\n",
    "from sql_queries import *"
   ]
  },
  {
   "cell_type": "code",
   "execution_count": 13,
   "metadata": {},
   "outputs": [],
   "source": [
    "conn = psycopg2.connect(\"host=127.0.0.1 dbname=sparkifydb user=student password=student\")\n",
    "cur = conn.cursor()"
   ]
  },
  {
   "cell_type": "code",
   "execution_count": 14,
   "metadata": {},
   "outputs": [],
   "source": [
    "def get_files(filepath):\n",
    "    all_files = []\n",
    "    for root, dirs, files in os.walk(filepath):\n",
    "        files = glob.glob(os.path.join(root,'*.json'))\n",
    "        for f in files :\n",
    "            all_files.append(os.path.abspath(f))\n",
    "    \n",
    "    return all_files"
   ]
  },
  {
   "cell_type": "markdown",
   "metadata": {},
   "source": [
    "# Process `song_data`\n",
    "In this first part, you'll perform ETL on the first dataset, `song_data`, to create the `songs` and `artists` dimensional tables.\n",
    "\n",
    "Let's perform ETL on a single song file and load a single record into each table to start.\n",
    "- Use the `get_files` function provided above to get a list of all song JSON files in `data/song_data`\n",
    "- Select the first song in this list\n",
    "- Read the song file and view the data"
   ]
  },
  {
   "cell_type": "code",
   "execution_count": 15,
   "metadata": {},
   "outputs": [],
   "source": [
    "# Get All File Names\n",
    "song_files =get_files(\"data/song_data/\")"
   ]
  },
  {
   "cell_type": "code",
   "execution_count": 16,
   "metadata": {},
   "outputs": [
    {
     "name": "stdout",
     "output_type": "stream",
     "text": [
      "/home/workspace/data/song_data/A/A/A/TRAAAVG12903CFA543.json\n",
      "/home/workspace/data/song_data/A/A/A/TRAAADZ128F9348C2E.json\n",
      "/home/workspace/data/song_data/A/A/A/TRAAAVO128F93133D4.json\n",
      "/home/workspace/data/song_data/A/A/A/TRAAARJ128F9320760.json\n",
      "/home/workspace/data/song_data/A/A/A/TRAAAAW128F429D538.json\n",
      "/home/workspace/data/song_data/A/A/A/TRAAABD128F429CF47.json\n",
      "/home/workspace/data/song_data/A/A/A/TRAAAMO128F1481E7F.json\n",
      "/home/workspace/data/song_data/A/A/A/TRAAAMQ128F1460CD3.json\n",
      "/home/workspace/data/song_data/A/A/A/TRAAAPK128E0786D96.json\n",
      "/home/workspace/data/song_data/A/A/A/TRAAAEF128F4273421.json\n",
      "/home/workspace/data/song_data/A/A/A/TRAAAFD128F92F423A.json\n",
      "/home/workspace/data/song_data/A/A/A/.ipynb_checkpoints/TRAAAAW128F429D538-checkpoint.json\n",
      "/home/workspace/data/song_data/A/A/A/.ipynb_checkpoints/TRAAABD128F429CF47-checkpoint.json\n",
      "/home/workspace/data/song_data/A/A/A/.ipynb_checkpoints/TRAAAPK128E0786D96-checkpoint.json\n",
      "/home/workspace/data/song_data/A/A/A/.ipynb_checkpoints/TRAAARJ128F9320760-checkpoint.json\n",
      "/home/workspace/data/song_data/A/A/A/.ipynb_checkpoints/TRAAAVG12903CFA543-checkpoint.json\n",
      "/home/workspace/data/song_data/A/A/A/.ipynb_checkpoints/TRAAAVO128F93133D4-checkpoint.json\n",
      "/home/workspace/data/song_data/A/A/A/.ipynb_checkpoints/TRAAAEF128F4273421-checkpoint.json\n",
      "/home/workspace/data/song_data/A/A/A/.ipynb_checkpoints/TRAAAMQ128F1460CD3-checkpoint.json\n",
      "/home/workspace/data/song_data/A/A/A/.ipynb_checkpoints/TRAAAFD128F92F423A-checkpoint.json\n",
      "/home/workspace/data/song_data/A/A/A/.ipynb_checkpoints/TRAAADZ128F9348C2E-checkpoint.json\n",
      "/home/workspace/data/song_data/A/A/A/.ipynb_checkpoints/TRAAAMO128F1481E7F-checkpoint.json\n",
      "/home/workspace/data/song_data/A/A/C/TRAACPE128F421C1B9.json\n",
      "/home/workspace/data/song_data/A/A/C/TRAACER128F4290F96.json\n",
      "/home/workspace/data/song_data/A/A/C/TRAACFV128F935E50B.json\n",
      "/home/workspace/data/song_data/A/A/C/TRAACLV128F427E123.json\n",
      "/home/workspace/data/song_data/A/A/C/TRAACVS128E078BE39.json\n",
      "/home/workspace/data/song_data/A/A/C/TRAACQT128F9331780.json\n",
      "/home/workspace/data/song_data/A/A/C/TRAACSL128F93462F4.json\n",
      "/home/workspace/data/song_data/A/A/C/TRAACHN128F1489601.json\n",
      "/home/workspace/data/song_data/A/A/C/TRAACOW128F933E35F.json\n",
      "/home/workspace/data/song_data/A/A/C/TRAACIW12903CC0F6D.json\n",
      "/home/workspace/data/song_data/A/A/C/TRAACNS128F14A2DF5.json\n",
      "/home/workspace/data/song_data/A/A/C/TRAACZK128F4243829.json\n",
      "/home/workspace/data/song_data/A/A/C/TRAACCG128F92E8A55.json\n",
      "/home/workspace/data/song_data/A/A/C/TRAACTB12903CAAF15.json\n",
      "/home/workspace/data/song_data/A/A/B/TRAABYW128F4244559.json\n",
      "/home/workspace/data/song_data/A/A/B/TRAABDL12903CAABBA.json\n",
      "/home/workspace/data/song_data/A/A/B/TRAABJL12903CDCF1A.json\n",
      "/home/workspace/data/song_data/A/A/B/TRAABLR128F423B7E3.json\n",
      "/home/workspace/data/song_data/A/A/B/TRAABCL128F4286650.json\n",
      "/home/workspace/data/song_data/A/A/B/TRAABNV128F425CEE1.json\n",
      "/home/workspace/data/song_data/A/A/B/TRAABXG128F9318EBD.json\n",
      "/home/workspace/data/song_data/A/A/B/TRAABRB128F9306DD5.json\n",
      "/home/workspace/data/song_data/A/A/B/TRAABYN12903CFD305.json\n",
      "/home/workspace/data/song_data/A/A/B/TRAABJV128F1460C49.json\n",
      "/home/workspace/data/song_data/A/A/B/TRAABVM128F92CA9DC.json\n",
      "/home/workspace/data/song_data/A/A/B/.ipynb_checkpoints/TRAABLR128F423B7E3-checkpoint.json\n",
      "/home/workspace/data/song_data/A/A/B/.ipynb_checkpoints/TRAABJV128F1460C49-checkpoint.json\n",
      "/home/workspace/data/song_data/A/A/B/.ipynb_checkpoints/TRAABNV128F425CEE1-checkpoint.json\n",
      "/home/workspace/data/song_data/A/A/B/.ipynb_checkpoints/TRAABJL12903CDCF1A-checkpoint.json\n",
      "/home/workspace/data/song_data/A/A/B/.ipynb_checkpoints/TRAABCL128F4286650-checkpoint.json\n",
      "/home/workspace/data/song_data/A/A/B/.ipynb_checkpoints/TRAABRB128F9306DD5-checkpoint.json\n",
      "/home/workspace/data/song_data/A/A/B/.ipynb_checkpoints/TRAABDL12903CAABBA-checkpoint.json\n",
      "/home/workspace/data/song_data/A/B/A/TRABAFP128F931E9A1.json\n",
      "/home/workspace/data/song_data/A/B/A/TRABAZH128F930419A.json\n",
      "/home/workspace/data/song_data/A/B/A/TRABAXV128F92F6AE3.json\n",
      "/home/workspace/data/song_data/A/B/A/TRABAXR128F426515F.json\n",
      "/home/workspace/data/song_data/A/B/A/TRABAVQ12903CBF7E0.json\n",
      "/home/workspace/data/song_data/A/B/A/TRABAIO128F42938F9.json\n",
      "/home/workspace/data/song_data/A/B/A/TRABACN128F425B784.json\n",
      "/home/workspace/data/song_data/A/B/A/TRABAXL128F424FC50.json\n",
      "/home/workspace/data/song_data/A/B/A/TRABAFJ128F42AF24E.json\n",
      "/home/workspace/data/song_data/A/B/A/TRABATO128F42627E9.json\n",
      "/home/workspace/data/song_data/A/B/A/TRABAWW128F4250A31.json\n",
      "/home/workspace/data/song_data/A/B/A/.ipynb_checkpoints/TRABAZH128F930419A-checkpoint.json\n",
      "/home/workspace/data/song_data/A/B/A/.ipynb_checkpoints/TRABAFJ128F42AF24E-checkpoint.json\n",
      "/home/workspace/data/song_data/A/B/A/.ipynb_checkpoints/TRABAFP128F931E9A1-checkpoint.json\n",
      "/home/workspace/data/song_data/A/B/A/.ipynb_checkpoints/TRABACN128F425B784-checkpoint.json\n",
      "/home/workspace/data/song_data/A/B/C/TRABCEI128F424C983.json\n",
      "/home/workspace/data/song_data/A/B/C/TRABCAJ12903CDFCC2.json\n",
      "/home/workspace/data/song_data/A/B/C/TRABCXB128F4286BD3.json\n",
      "/home/workspace/data/song_data/A/B/C/TRABCUQ128E0783E2B.json\n",
      "/home/workspace/data/song_data/A/B/C/TRABCPZ128F4275C32.json\n",
      "/home/workspace/data/song_data/A/B/C/TRABCEC128F426456E.json\n",
      "/home/workspace/data/song_data/A/B/C/TRABCKL128F423A778.json\n",
      "/home/workspace/data/song_data/A/B/C/TRABCFL128F149BB0D.json\n",
      "/home/workspace/data/song_data/A/B/C/TRABCTK128F934B224.json\n",
      "/home/workspace/data/song_data/A/B/C/TRABCIX128F4265903.json\n",
      "/home/workspace/data/song_data/A/B/C/TRABCRU128F423F449.json\n",
      "/home/workspace/data/song_data/A/B/C/TRABCYE128F934CE1D.json\n",
      "/home/workspace/data/song_data/A/B/C/.ipynb_checkpoints/TRABCFL128F149BB0D-checkpoint.json\n",
      "/home/workspace/data/song_data/A/B/C/.ipynb_checkpoints/TRABCKL128F423A778-checkpoint.json\n",
      "/home/workspace/data/song_data/A/B/C/.ipynb_checkpoints/TRABCTK128F934B224-checkpoint.json\n",
      "/home/workspace/data/song_data/A/B/C/.ipynb_checkpoints/TRABCXB128F4286BD3-checkpoint.json\n",
      "/home/workspace/data/song_data/A/B/C/.ipynb_checkpoints/TRABCEI128F424C983-checkpoint.json\n",
      "/home/workspace/data/song_data/A/B/B/TRABBOP128F931B50D.json\n",
      "/home/workspace/data/song_data/A/B/B/TRABBNP128F932546F.json\n",
      "/home/workspace/data/song_data/A/B/B/TRABBJE12903CDB442.json\n",
      "/home/workspace/data/song_data/A/B/B/TRABBVJ128F92F7EAA.json\n",
      "/home/workspace/data/song_data/A/B/B/TRABBOR128F4286200.json\n",
      "/home/workspace/data/song_data/A/B/B/TRABBLU128F93349CF.json\n",
      "/home/workspace/data/song_data/A/B/B/TRABBBV128F42967D7.json\n",
      "/home/workspace/data/song_data/A/B/B/TRABBKX128F4285205.json\n",
      "/home/workspace/data/song_data/A/B/B/TRABBZN12903CD9297.json\n",
      "/home/workspace/data/song_data/A/B/B/TRABBAM128F429D223.json\n",
      "/home/workspace/data/song_data/A/B/B/TRABBXU128F92FEF48.json\n",
      "/home/workspace/data/song_data/A/B/B/TRABBTA128F933D304.json\n"
     ]
    }
   ],
   "source": [
    "# Print all the files\n",
    "for song in range(len(song_files)):\n",
    "    print(song_files[song])"
   ]
  },
  {
   "cell_type": "code",
   "execution_count": 17,
   "metadata": {},
   "outputs": [],
   "source": [
    "#Select the first file\n",
    "filepath = song_files[0]"
   ]
  },
  {
   "cell_type": "code",
   "execution_count": 18,
   "metadata": {},
   "outputs": [
    {
     "data": {
      "text/plain": [
       "list"
      ]
     },
     "execution_count": 18,
     "metadata": {},
     "output_type": "execute_result"
    }
   ],
   "source": [
    "type(song_files)"
   ]
  },
  {
   "cell_type": "code",
   "execution_count": 28,
   "metadata": {},
   "outputs": [],
   "source": [
    "df=[]\n",
    "for f in song_files:\n",
    "    df=pd.read_json(f,lines=True)"
   ]
  },
  {
   "cell_type": "code",
   "execution_count": 29,
   "metadata": {},
   "outputs": [
    {
     "name": "stdout",
     "output_type": "stream",
     "text": [
      "            artist_id  artist_latitude artist_location  artist_longitude  \\\n",
      "0  ARAGB2O1187FB3A161              NaN                               NaN   \n",
      "\n",
      "                       artist_name   duration  num_songs             song_id  \\\n",
      "0  Pucho & His Latin Soul Brothers  338.23302          1  SOLEYHO12AB0188A85   \n",
      "\n",
      "                title  year  \n",
      "0  Got My Mojo Workin     0  \n"
     ]
    }
   ],
   "source": [
    "print(df)"
   ]
  },
  {
   "cell_type": "code",
   "execution_count": 27,
   "metadata": {},
   "outputs": [
    {
     "ename": "ValueError",
     "evalue": "Shape of passed values is (1, 1), indices imply (9, 1)",
     "output_type": "error",
     "traceback": [
      "\u001b[0;31m---------------------------------------------------------------------------\u001b[0m",
      "\u001b[0;31mValueError\u001b[0m                                Traceback (most recent call last)",
      "\u001b[0;32m/opt/conda/lib/python3.6/site-packages/pandas/core/internals.py\u001b[0m in \u001b[0;36mcreate_block_manager_from_blocks\u001b[0;34m(blocks, axes)\u001b[0m\n\u001b[1;32m   4856\u001b[0m                 blocks = [make_block(values=blocks[0],\n\u001b[0;32m-> 4857\u001b[0;31m                                      placement=slice(0, len(axes[0])))]\n\u001b[0m\u001b[1;32m   4858\u001b[0m \u001b[0;34m\u001b[0m\u001b[0m\n",
      "\u001b[0;32m/opt/conda/lib/python3.6/site-packages/pandas/core/internals.py\u001b[0m in \u001b[0;36mmake_block\u001b[0;34m(values, placement, klass, ndim, dtype, fastpath)\u001b[0m\n\u001b[1;32m   3204\u001b[0m \u001b[0;34m\u001b[0m\u001b[0m\n\u001b[0;32m-> 3205\u001b[0;31m     \u001b[0;32mreturn\u001b[0m \u001b[0mklass\u001b[0m\u001b[0;34m(\u001b[0m\u001b[0mvalues\u001b[0m\u001b[0;34m,\u001b[0m \u001b[0mndim\u001b[0m\u001b[0;34m=\u001b[0m\u001b[0mndim\u001b[0m\u001b[0;34m,\u001b[0m \u001b[0mplacement\u001b[0m\u001b[0;34m=\u001b[0m\u001b[0mplacement\u001b[0m\u001b[0;34m)\u001b[0m\u001b[0;34m\u001b[0m\u001b[0m\n\u001b[0m\u001b[1;32m   3206\u001b[0m \u001b[0;34m\u001b[0m\u001b[0m\n",
      "\u001b[0;32m/opt/conda/lib/python3.6/site-packages/pandas/core/internals.py\u001b[0m in \u001b[0;36m__init__\u001b[0;34m(self, values, placement, ndim)\u001b[0m\n\u001b[1;32m   2302\u001b[0m         super(ObjectBlock, self).__init__(values, ndim=ndim,\n\u001b[0;32m-> 2303\u001b[0;31m                                           placement=placement)\n\u001b[0m\u001b[1;32m   2304\u001b[0m \u001b[0;34m\u001b[0m\u001b[0m\n",
      "\u001b[0;32m/opt/conda/lib/python3.6/site-packages/pandas/core/internals.py\u001b[0m in \u001b[0;36m__init__\u001b[0;34m(self, values, placement, ndim)\u001b[0m\n\u001b[1;32m    124\u001b[0m                 \u001b[0;34m'Wrong number of items passed {val}, placement implies '\u001b[0m\u001b[0;34m\u001b[0m\u001b[0m\n\u001b[0;32m--> 125\u001b[0;31m                 '{mgr}'.format(val=len(self.values), mgr=len(self.mgr_locs)))\n\u001b[0m\u001b[1;32m    126\u001b[0m \u001b[0;34m\u001b[0m\u001b[0m\n",
      "\u001b[0;31mValueError\u001b[0m: Wrong number of items passed 1, placement implies 9",
      "\nDuring handling of the above exception, another exception occurred:\n",
      "\u001b[0;31mValueError\u001b[0m                                Traceback (most recent call last)",
      "\u001b[0;32m<ipython-input-27-bd1cda4b87e1>\u001b[0m in \u001b[0;36m<module>\u001b[0;34m()\u001b[0m\n\u001b[0;32m----> 1\u001b[0;31m \u001b[0mtdf\u001b[0m \u001b[0;34m=\u001b[0m \u001b[0mpd\u001b[0m\u001b[0;34m.\u001b[0m\u001b[0mDataFrame\u001b[0m\u001b[0;34m(\u001b[0m\u001b[0;34m[\u001b[0m\u001b[0mdf\u001b[0m\u001b[0;34m]\u001b[0m\u001b[0;34m,\u001b[0m \u001b[0mcolumns\u001b[0m\u001b[0;34m=\u001b[0m\u001b[0;34m[\u001b[0m\u001b[0;34m'song_id'\u001b[0m\u001b[0;34m,\u001b[0m \u001b[0;34m'title'\u001b[0m\u001b[0;34m,\u001b[0m\u001b[0;34m'artist_id'\u001b[0m\u001b[0;34m,\u001b[0m \u001b[0;34m'year'\u001b[0m\u001b[0;34m,\u001b[0m \u001b[0;34m'duration'\u001b[0m\u001b[0;34m,\u001b[0m \u001b[0;34m'artist_name'\u001b[0m\u001b[0;34m,\u001b[0m \u001b[0;34m'artist_location'\u001b[0m\u001b[0;34m,\u001b[0m \u001b[0;34m'artist_latitude'\u001b[0m\u001b[0;34m,\u001b[0m\u001b[0;34m'artist_longitude'\u001b[0m\u001b[0;34m]\u001b[0m\u001b[0;34m)\u001b[0m\u001b[0;34m\u001b[0m\u001b[0m\n\u001b[0m\u001b[1;32m      2\u001b[0m \u001b[0mtdf\u001b[0m\u001b[0;34m.\u001b[0m\u001b[0mhead\u001b[0m\u001b[0;34m(\u001b[0m\u001b[0;34m)\u001b[0m\u001b[0;34m\u001b[0m\u001b[0m\n",
      "\u001b[0;32m/opt/conda/lib/python3.6/site-packages/pandas/core/frame.py\u001b[0m in \u001b[0;36m__init__\u001b[0;34m(self, data, index, columns, dtype, copy)\u001b[0m\n\u001b[1;32m    401\u001b[0m                 \u001b[0;32melse\u001b[0m\u001b[0;34m:\u001b[0m\u001b[0;34m\u001b[0m\u001b[0m\n\u001b[1;32m    402\u001b[0m                     mgr = self._init_ndarray(data, index, columns, dtype=dtype,\n\u001b[0;32m--> 403\u001b[0;31m                                              copy=copy)\n\u001b[0m\u001b[1;32m    404\u001b[0m             \u001b[0;32melse\u001b[0m\u001b[0;34m:\u001b[0m\u001b[0;34m\u001b[0m\u001b[0m\n\u001b[1;32m    405\u001b[0m                 \u001b[0mmgr\u001b[0m \u001b[0;34m=\u001b[0m \u001b[0mself\u001b[0m\u001b[0;34m.\u001b[0m\u001b[0m_init_dict\u001b[0m\u001b[0;34m(\u001b[0m\u001b[0;34m{\u001b[0m\u001b[0;34m}\u001b[0m\u001b[0;34m,\u001b[0m \u001b[0mindex\u001b[0m\u001b[0;34m,\u001b[0m \u001b[0mcolumns\u001b[0m\u001b[0;34m,\u001b[0m \u001b[0mdtype\u001b[0m\u001b[0;34m=\u001b[0m\u001b[0mdtype\u001b[0m\u001b[0;34m)\u001b[0m\u001b[0;34m\u001b[0m\u001b[0m\n",
      "\u001b[0;32m/opt/conda/lib/python3.6/site-packages/pandas/core/frame.py\u001b[0m in \u001b[0;36m_init_ndarray\u001b[0;34m(self, values, index, columns, dtype, copy)\u001b[0m\n\u001b[1;32m    534\u001b[0m             \u001b[0mvalues\u001b[0m \u001b[0;34m=\u001b[0m \u001b[0mmaybe_infer_to_datetimelike\u001b[0m\u001b[0;34m(\u001b[0m\u001b[0mvalues\u001b[0m\u001b[0;34m)\u001b[0m\u001b[0;34m\u001b[0m\u001b[0m\n\u001b[1;32m    535\u001b[0m \u001b[0;34m\u001b[0m\u001b[0m\n\u001b[0;32m--> 536\u001b[0;31m         \u001b[0;32mreturn\u001b[0m \u001b[0mcreate_block_manager_from_blocks\u001b[0m\u001b[0;34m(\u001b[0m\u001b[0;34m[\u001b[0m\u001b[0mvalues\u001b[0m\u001b[0;34m]\u001b[0m\u001b[0;34m,\u001b[0m \u001b[0;34m[\u001b[0m\u001b[0mcolumns\u001b[0m\u001b[0;34m,\u001b[0m \u001b[0mindex\u001b[0m\u001b[0;34m]\u001b[0m\u001b[0;34m)\u001b[0m\u001b[0;34m\u001b[0m\u001b[0m\n\u001b[0m\u001b[1;32m    537\u001b[0m \u001b[0;34m\u001b[0m\u001b[0m\n\u001b[1;32m    538\u001b[0m     \u001b[0;34m@\u001b[0m\u001b[0mproperty\u001b[0m\u001b[0;34m\u001b[0m\u001b[0m\n",
      "\u001b[0;32m/opt/conda/lib/python3.6/site-packages/pandas/core/internals.py\u001b[0m in \u001b[0;36mcreate_block_manager_from_blocks\u001b[0;34m(blocks, axes)\u001b[0m\n\u001b[1;32m   4864\u001b[0m         \u001b[0mblocks\u001b[0m \u001b[0;34m=\u001b[0m \u001b[0;34m[\u001b[0m\u001b[0mgetattr\u001b[0m\u001b[0;34m(\u001b[0m\u001b[0mb\u001b[0m\u001b[0;34m,\u001b[0m \u001b[0;34m'values'\u001b[0m\u001b[0;34m,\u001b[0m \u001b[0mb\u001b[0m\u001b[0;34m)\u001b[0m \u001b[0;32mfor\u001b[0m \u001b[0mb\u001b[0m \u001b[0;32min\u001b[0m \u001b[0mblocks\u001b[0m\u001b[0;34m]\u001b[0m\u001b[0;34m\u001b[0m\u001b[0m\n\u001b[1;32m   4865\u001b[0m         \u001b[0mtot_items\u001b[0m \u001b[0;34m=\u001b[0m \u001b[0msum\u001b[0m\u001b[0;34m(\u001b[0m\u001b[0mb\u001b[0m\u001b[0;34m.\u001b[0m\u001b[0mshape\u001b[0m\u001b[0;34m[\u001b[0m\u001b[0;36m0\u001b[0m\u001b[0;34m]\u001b[0m \u001b[0;32mfor\u001b[0m \u001b[0mb\u001b[0m \u001b[0;32min\u001b[0m \u001b[0mblocks\u001b[0m\u001b[0;34m)\u001b[0m\u001b[0;34m\u001b[0m\u001b[0m\n\u001b[0;32m-> 4866\u001b[0;31m         \u001b[0mconstruction_error\u001b[0m\u001b[0;34m(\u001b[0m\u001b[0mtot_items\u001b[0m\u001b[0;34m,\u001b[0m \u001b[0mblocks\u001b[0m\u001b[0;34m[\u001b[0m\u001b[0;36m0\u001b[0m\u001b[0;34m]\u001b[0m\u001b[0;34m.\u001b[0m\u001b[0mshape\u001b[0m\u001b[0;34m[\u001b[0m\u001b[0;36m1\u001b[0m\u001b[0;34m:\u001b[0m\u001b[0;34m]\u001b[0m\u001b[0;34m,\u001b[0m \u001b[0maxes\u001b[0m\u001b[0;34m,\u001b[0m \u001b[0me\u001b[0m\u001b[0;34m)\u001b[0m\u001b[0;34m\u001b[0m\u001b[0m\n\u001b[0m\u001b[1;32m   4867\u001b[0m \u001b[0;34m\u001b[0m\u001b[0m\n\u001b[1;32m   4868\u001b[0m \u001b[0;34m\u001b[0m\u001b[0m\n",
      "\u001b[0;32m/opt/conda/lib/python3.6/site-packages/pandas/core/internals.py\u001b[0m in \u001b[0;36mconstruction_error\u001b[0;34m(tot_items, block_shape, axes, e)\u001b[0m\n\u001b[1;32m   4841\u001b[0m         \u001b[0;32mraise\u001b[0m \u001b[0mValueError\u001b[0m\u001b[0;34m(\u001b[0m\u001b[0;34m\"Empty data passed with indices specified.\"\u001b[0m\u001b[0;34m)\u001b[0m\u001b[0;34m\u001b[0m\u001b[0m\n\u001b[1;32m   4842\u001b[0m     raise ValueError(\"Shape of passed values is {0}, indices imply {1}\".format(\n\u001b[0;32m-> 4843\u001b[0;31m         passed, implied))\n\u001b[0m\u001b[1;32m   4844\u001b[0m \u001b[0;34m\u001b[0m\u001b[0m\n\u001b[1;32m   4845\u001b[0m \u001b[0;34m\u001b[0m\u001b[0m\n",
      "\u001b[0;31mValueError\u001b[0m: Shape of passed values is (1, 1), indices imply (9, 1)"
     ]
    }
   ],
   "source": [
    "tdf = pd.DataFrame([df], columns=['song_id', 'title','artist_id', 'year', 'duration', 'artist_name', 'artist_location', 'artist_latitude','artist_longitude'])\n",
    "tdf.head()"
   ]
  },
  {
   "cell_type": "code",
   "execution_count": null,
   "metadata": {},
   "outputs": [],
   "source": []
  },
  {
   "cell_type": "code",
   "execution_count": null,
   "metadata": {},
   "outputs": [],
   "source": [
    "#Print the fisrt file\n",
    "print(filepath)"
   ]
  },
  {
   "cell_type": "code",
   "execution_count": null,
   "metadata": {},
   "outputs": [],
   "source": [
    "# Read the JSON file line by line when lines=True and See the dataframe first 5 records using head method\n",
    "df = pd.read_json(filepath ,lines=True)\n",
    "df.head()"
   ]
  },
  {
   "cell_type": "markdown",
   "metadata": {},
   "source": [
    "## #1: `songs` Table\n",
    "#### Extract Data for Songs Table\n",
    "- Select columns for song ID, title, artist ID, year, and duration\n",
    "- Use `df.values` to select just the values from the dataframe\n",
    "- Index to select the first (only) record in the dataframe\n",
    "- Convert the array to a list and set it to `song_data`"
   ]
  },
  {
   "cell_type": "code",
   "execution_count": 30,
   "metadata": {},
   "outputs": [
    {
     "name": "stdout",
     "output_type": "stream",
     "text": [
      "['ARAGB2O1187FB3A161' nan '' nan 'Pucho & His Latin Soul Brothers'\n",
      " 338.23302 1 'SOLEYHO12AB0188A85' 'Got My Mojo Workin' 0]\n"
     ]
    }
   ],
   "source": [
    "# Print the first record of data frame\n",
    "song_data = df.values[0]\n",
    "print(song_data)"
   ]
  },
  {
   "cell_type": "code",
   "execution_count": null,
   "metadata": {},
   "outputs": [],
   "source": [
    "# check the data type of song_data\n",
    "type(song_data)"
   ]
  },
  {
   "cell_type": "code",
   "execution_count": null,
   "metadata": {},
   "outputs": [],
   "source": [
    "#convert dataframe to list by selecting first record using iloc[0] which is index based, I could use Label based that is loc['song_id']\n",
    "song_data =list(df[['song_id', 'title','artist_id', 'year', 'duration']].iloc[0])\n",
    "song_data"
   ]
  },
  {
   "cell_type": "code",
   "execution_count": null,
   "metadata": {},
   "outputs": [],
   "source": [
    "# check the data type of song_data\n",
    "type(song_data)"
   ]
  },
  {
   "cell_type": "code",
   "execution_count": null,
   "metadata": {},
   "outputs": [],
   "source": [
    "# was getting can't adapt type 'numpy.int64. Not able to convert into Python Type. That's why I convrted into float type\n",
    "song_data[3]=song_data[3].astype(float)"
   ]
  },
  {
   "cell_type": "code",
   "execution_count": null,
   "metadata": {},
   "outputs": [],
   "source": [
    "# check the data type of song_data list\n",
    "for n in range(len(song_data)):\n",
    "    print(type(song_data[n]))"
   ]
  },
  {
   "cell_type": "code",
   "execution_count": null,
   "metadata": {},
   "outputs": [],
   "source": [
    "# verified all the cloumns\n",
    "cols = df.columns\n",
    "cols"
   ]
  },
  {
   "cell_type": "code",
   "execution_count": null,
   "metadata": {},
   "outputs": [],
   "source": [
    "# verified all the indexes\n",
    "ind=df.index\n",
    "ind"
   ]
  },
  {
   "cell_type": "markdown",
   "metadata": {},
   "source": [
    "#### Insert Record into Song Table\n",
    "Implement the `song_table_insert` query in `sql_queries.py` and run the cell below to insert a record for this song into the `songs` table. Remember to run `create_tables.py` before running the cell below to ensure you've created/resetted the `songs` table in the sparkify database."
   ]
  },
  {
   "cell_type": "code",
   "execution_count": null,
   "metadata": {},
   "outputs": [],
   "source": [
    "# below code snippet is passing SQL Insert Query and Song_data as values to execute method. once it is executed and it will write into song dimension table and do commit.\n",
    "cur.execute(song_table_insert, song_data)\n",
    "conn.commit()"
   ]
  },
  {
   "cell_type": "markdown",
   "metadata": {},
   "source": [
    "Run `test.ipynb` to see if you've successfully added a record to this table."
   ]
  },
  {
   "cell_type": "markdown",
   "metadata": {},
   "source": [
    "## #2: `artists` Table\n",
    "#### Extract Data for Artists Table\n",
    "- Select columns for artist ID, name, location, latitude, and longitude\n",
    "- Use `df.values` to select just the values from the dataframe\n",
    "- Index to select the first (only) record in the dataframe\n",
    "- Convert the array to a list and set it to `artist_data`"
   ]
  },
  {
   "cell_type": "code",
   "execution_count": null,
   "metadata": {},
   "outputs": [],
   "source": [
    "#convert dataframe to list by selecting first record using iloc[0] which is index based.\n",
    "artist_data = list(df[['artist_id', 'artist_name', 'artist_location', 'artist_latitude','artist_longitude']].iloc[0])\n",
    "artist_data"
   ]
  },
  {
   "cell_type": "code",
   "execution_count": null,
   "metadata": {},
   "outputs": [],
   "source": [
    "# checking the data types of list\n",
    "for n in range(len(artist_data)):\n",
    "    print(type(artist_data[n]))"
   ]
  },
  {
   "cell_type": "markdown",
   "metadata": {},
   "source": [
    "#### Insert Record into Artist Table\n",
    "Implement the `artist_table_insert` query in `sql_queries.py` and run the cell below to insert a record for this song's artist into the `artists` table. Remember to run `create_tables.py` before running the cell below to ensure you've created/resetted the `artists` table in the sparkify database."
   ]
  },
  {
   "cell_type": "code",
   "execution_count": null,
   "metadata": {},
   "outputs": [],
   "source": [
    "# below code snippet is passing SQL Insert Query and artist_data as values to execute method. once it is executed and it will write into artist dimension table and do commit.\n",
    "cur.execute(artist_table_insert, artist_data)\n",
    "conn.commit()"
   ]
  },
  {
   "cell_type": "markdown",
   "metadata": {},
   "source": [
    "Run `test.ipynb` to see if you've successfully added a record to this table."
   ]
  },
  {
   "cell_type": "markdown",
   "metadata": {},
   "source": [
    "# Process `log_data`\n",
    "In this part, you'll perform ETL on the second dataset, `log_data`, to create the `time` and `users` dimensional tables, as well as the `songplays` fact table.\n",
    "\n",
    "Let's perform ETL on a single log file and load a single record into each table.\n",
    "- Use the `get_files` function provided above to get a list of all log JSON files in `data/log_data`\n",
    "- Select the first log file in this list\n",
    "- Read the log file and view the data"
   ]
  },
  {
   "cell_type": "code",
   "execution_count": null,
   "metadata": {},
   "outputs": [],
   "source": [
    "log_files = get_files(\"data/log_data\")"
   ]
  },
  {
   "cell_type": "code",
   "execution_count": null,
   "metadata": {},
   "outputs": [],
   "source": [
    "filepath = log_files[0]"
   ]
  },
  {
   "cell_type": "code",
   "execution_count": null,
   "metadata": {},
   "outputs": [],
   "source": [
    "print(filepath)"
   ]
  },
  {
   "cell_type": "code",
   "execution_count": null,
   "metadata": {},
   "outputs": [],
   "source": [
    "df = pd.read_json(filepath,lines=True)\n",
    "df.head()"
   ]
  },
  {
   "cell_type": "code",
   "execution_count": null,
   "metadata": {},
   "outputs": [],
   "source": [
    "df.columns"
   ]
  },
  {
   "cell_type": "markdown",
   "metadata": {},
   "source": [
    "## #3: `time` Table\n",
    "#### Extract Data for Time Table\n",
    "- Filter records by `NextSong` action\n",
    "- Convert the `ts` timestamp column to datetime\n",
    "  - Hint: the current timestamp is in milliseconds\n",
    "- Extract the timestamp, hour, day, week of year, month, year, and weekday from the `ts` column and set `time_data` to a list containing these values in order\n",
    "  - Hint: use pandas' [`dt` attribute](https://pandas.pydata.org/pandas-docs/stable/reference/api/pandas.Series.dt.html) to access easily datetimelike properties.\n",
    "- Specify labels for these columns and set to `column_labels`\n",
    "- Create a dataframe, `time_df,` containing the time data for this file by combining `column_labels` and `time_data` into a dictionary and converting this into a dataframe"
   ]
  },
  {
   "cell_type": "code",
   "execution_count": null,
   "metadata": {},
   "outputs": [],
   "source": [
    "#Filter the records by Nextsong\n",
    "df = df[df.page=='NextSong']\n",
    "#df.head()"
   ]
  },
  {
   "cell_type": "code",
   "execution_count": null,
   "metadata": {},
   "outputs": [],
   "source": [
    "#convert the dataframe ts column to datetime\n",
    "df['ts']=pd.to_datetime(df['ts'])"
   ]
  },
  {
   "cell_type": "code",
   "execution_count": null,
   "metadata": {},
   "outputs": [],
   "source": [
    "#Created another DataFrame and assigned to temporary dataframe (t)\n",
    "t=pd.DataFrame()\n",
    "#assigned the df[ts] to t[ts]\n",
    "t['ts']=df['ts']\n",
    "\n",
    "#Extract the timestamp, hour, day, week of year, month, year, and weekday from the ts column and set to t dataframe\n",
    "t['timestamp'] = t['ts'].dt.time\n",
    "t['hour'] = t['ts'].dt.hour\n",
    "t['day'] = t['ts'].dt.day\n",
    "t['week of year'] = t['ts'].dt.week\n",
    "t['month'] = t['ts'].dt.month\n",
    "t['year'] = t['ts'].dt.year\n",
    "t['weekday'] = t['ts'].dt.dayofweek \n",
    "t.set_index('ts',inplace=True)\n",
    "#t.drop(['ts'], axis=1, inplace=True)\n",
    "t.head()"
   ]
  },
  {
   "cell_type": "code",
   "execution_count": null,
   "metadata": {},
   "outputs": [],
   "source": [
    "type(t)"
   ]
  },
  {
   "cell_type": "code",
   "execution_count": null,
   "metadata": {},
   "outputs": [],
   "source": [
    "#convert t dataframe to list\n",
    "time_data = t.values.tolist() #[df.columns.values.tolist()] \n",
    "#label the list with column names\n",
    "column_labels = ('timestamp','hour','day','week of year','month','year','weekday')"
   ]
  },
  {
   "cell_type": "code",
   "execution_count": null,
   "metadata": {},
   "outputs": [],
   "source": [
    "#convert the list into dataframe by providing the list and column names\n",
    "time_df = pd.DataFrame(time_data,columns=column_labels)\n",
    "time_df.head()"
   ]
  },
  {
   "cell_type": "markdown",
   "metadata": {},
   "source": [
    "#### Insert Records into Time Table\n",
    "Implement the `time_table_insert` query in `sql_queries.py` and run the cell below to insert records for the timestamps in this log file into the `time` table. Remember to run `create_tables.py` before running the cell below to ensure you've created/resetted the `time` table in the sparkify database."
   ]
  },
  {
   "cell_type": "code",
   "execution_count": null,
   "metadata": {},
   "outputs": [],
   "source": [
    "#loop through the each row of datafream and insert into time dimension table\n",
    "for i, row in time_df.iterrows():\n",
    "    cur.execute(time_table_insert, list(row))\n",
    "    conn.commit()"
   ]
  },
  {
   "cell_type": "markdown",
   "metadata": {},
   "source": [
    "Run `test.ipynb` to see if you've successfully added records to this table."
   ]
  },
  {
   "cell_type": "markdown",
   "metadata": {},
   "source": [
    "## #4: `users` Table\n",
    "#### Extract Data for Users Table\n",
    "- Select columns for user ID, first name, last name, gender and level and set to `user_df`"
   ]
  },
  {
   "cell_type": "code",
   "execution_count": null,
   "metadata": {},
   "outputs": [],
   "source": [
    "user_df = pd.DataFrame(df,columns=['userId','firstName','lastName','gender','level'])"
   ]
  },
  {
   "cell_type": "code",
   "execution_count": null,
   "metadata": {},
   "outputs": [],
   "source": [
    "user_df.head()"
   ]
  },
  {
   "cell_type": "markdown",
   "metadata": {},
   "source": [
    "#### Insert Records into Users Table\n",
    "Implement the `user_table_insert` query in `sql_queries.py` and run the cell below to insert records for the users in this log file into the `users` table. Remember to run `create_tables.py` before running the cell below to ensure you've created/resetted the `users` table in the sparkify database."
   ]
  },
  {
   "cell_type": "code",
   "execution_count": null,
   "metadata": {},
   "outputs": [],
   "source": [
    "for i, row in user_df.iterrows():\n",
    "    cur.execute(user_table_insert, row)\n",
    "    conn.commit()"
   ]
  },
  {
   "cell_type": "markdown",
   "metadata": {},
   "source": [
    "Run `test.ipynb` to see if you've successfully added records to this table."
   ]
  },
  {
   "cell_type": "markdown",
   "metadata": {},
   "source": [
    "## #5: `songplays` Table\n",
    "#### Extract Data and Songplays Table\n",
    "This one is a little more complicated since information from the songs table, artists table, and original log file are all needed for the `songplays` table. Since the log file does not specify an ID for either the song or the artist, you'll need to get the song ID and artist ID by querying the songs and artists tables to find matches based on song title, artist name, and song duration time.\n",
    "- Implement the `song_select` query in `sql_queries.py` to find the song ID and artist ID based on the title, artist name, and duration of a song.\n",
    "- Select the timestamp, user ID, level, song ID, artist ID, session ID, location, and user agent and set to `songplay_data`\n",
    "\n",
    "#### Insert Records into Songplays Table\n",
    "- Implement the `songplay_table_insert` query and run the cell below to insert records for the songplay actions in this log file into the `songplays` table. Remember to run `create_tables.py` before running the cell below to ensure you've created/resetted the `songplays` table in the sparkify database."
   ]
  },
  {
   "cell_type": "code",
   "execution_count": null,
   "metadata": {},
   "outputs": [],
   "source": [
    "#to get the song ID and artist ID by querying the songs and artists tables to find matches based on song title, artist name, and song duration time\n",
    "for index, row in df.iterrows():\n",
    "\n",
    "    # get songid and artistid from song and artist tables\n",
    "    cur.execute(song_select, (row.song, row.artist, row.length))\n",
    "    results = cur.fetchone()\n",
    "    \n",
    "    if results:\n",
    "        songid, artistid = results\n",
    "    else:\n",
    "        songid, artistid = None, None \n",
    "    \n",
    "    conn.commit()"
   ]
  },
  {
   "cell_type": "code",
   "execution_count": null,
   "metadata": {},
   "outputs": [],
   "source": [
    "df.columns"
   ]
  },
  {
   "cell_type": "code",
   "execution_count": null,
   "metadata": {},
   "outputs": [],
   "source": [
    "# Assign the songid and artistid to dataframe\n",
    "df['songid']=songid\n",
    "df['artistid']=artistid\n",
    "df.head()   "
   ]
  },
  {
   "cell_type": "code",
   "execution_count": null,
   "metadata": {},
   "outputs": [],
   "source": [
    "type(results)"
   ]
  },
  {
   "cell_type": "code",
   "execution_count": null,
   "metadata": {},
   "outputs": [],
   "source": [
    "#insert into songplays table\n",
    "songplay_data = pd.DataFrame(df,columns=['ts','userId','level','songid','artistid','sessionId','location','userAgent','song','artist','length'])\n",
    "for i, row in songplay_data.iterrows():\n",
    "    cur.execute(songplay_table_insert, row)\n",
    "    conn.commit()"
   ]
  },
  {
   "cell_type": "markdown",
   "metadata": {},
   "source": [
    "Run `test.ipynb` to see if you've successfully added records to this table."
   ]
  },
  {
   "cell_type": "markdown",
   "metadata": {},
   "source": [
    "# Close Connection to Sparkify Database"
   ]
  },
  {
   "cell_type": "code",
   "execution_count": null,
   "metadata": {},
   "outputs": [],
   "source": [
    "conn.close()"
   ]
  },
  {
   "cell_type": "markdown",
   "metadata": {},
   "source": [
    "# Implement `etl.py`\n",
    "Use what you've completed in this notebook to implement `etl.py`."
   ]
  },
  {
   "cell_type": "code",
   "execution_count": null,
   "metadata": {},
   "outputs": [],
   "source": []
  }
 ],
 "metadata": {
  "kernelspec": {
   "display_name": "Python 3",
   "language": "python",
   "name": "python3"
  },
  "language_info": {
   "codemirror_mode": {
    "name": "ipython",
    "version": 3
   },
   "file_extension": ".py",
   "mimetype": "text/x-python",
   "name": "python",
   "nbconvert_exporter": "python",
   "pygments_lexer": "ipython3",
   "version": "3.6.3"
  }
 },
 "nbformat": 4,
 "nbformat_minor": 2
}
